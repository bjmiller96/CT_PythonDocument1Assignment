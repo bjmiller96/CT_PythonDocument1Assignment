{
 "cells": [
  {
   "cell_type": "markdown",
   "metadata": {},
   "source": [
    "# Week 2 - Monday Lesson (variable assignment, loops, lists)"
   ]
  },
  {
   "cell_type": "markdown",
   "metadata": {},
   "source": [
    "## Tasks Today:\n",
    "\n",
    "1) Int & Float assignments <br>\n",
    " &nbsp;&nbsp;&nbsp;&nbsp; a) Assigning int <br>\n",
    " &nbsp;&nbsp;&nbsp;&nbsp; b) Assigning float <br>\n",
    " &nbsp;&nbsp;&nbsp;&nbsp; c) Performing Calculations on ints and floats <br>\n",
    " &nbsp;&nbsp;&nbsp;&nbsp;&nbsp;&nbsp;&nbsp;&nbsp; - Addition <br>\n",
    " &nbsp;&nbsp;&nbsp;&nbsp;&nbsp;&nbsp;&nbsp;&nbsp; - Subtraction <br>\n",
    " &nbsp;&nbsp;&nbsp;&nbsp;&nbsp;&nbsp;&nbsp;&nbsp; - Multiplication <br>\n",
    " &nbsp;&nbsp;&nbsp;&nbsp;&nbsp;&nbsp;&nbsp;&nbsp; - Division <br>\n",
    " &nbsp;&nbsp;&nbsp;&nbsp;&nbsp;&nbsp;&nbsp;&nbsp; - Floor Division <br>\n",
    " &nbsp;&nbsp;&nbsp;&nbsp;&nbsp;&nbsp;&nbsp;&nbsp; - Modulo <br>\n",
    " &nbsp;&nbsp;&nbsp;&nbsp;&nbsp;&nbsp;&nbsp;&nbsp; - Exponential <br>\n",
    "2) String Input-Output <br>\n",
    " &nbsp;&nbsp;&nbsp;&nbsp; a) String Assignment <br>\n",
    " &nbsp;&nbsp;&nbsp;&nbsp; b) print() <br>\n",
    " &nbsp;&nbsp;&nbsp;&nbsp; c) String Concatenation <br>\n",
    " &nbsp;&nbsp;&nbsp;&nbsp; d) Type Conversion <br>\n",
    " &nbsp;&nbsp;&nbsp;&nbsp; e) input() <br>\n",
    " &nbsp;&nbsp;&nbsp;&nbsp; f) format() <br>\n",
    " &nbsp;&nbsp;&nbsp;&nbsp; g) Old Way (python 2) <br>\n",
    "3) <b>In-Class Exercise #1</b> <br>\n",
    "4) If Statements <br>\n",
    " &nbsp;&nbsp;&nbsp;&nbsp; a) 'is' keyword <br>\n",
    " &nbsp;&nbsp;&nbsp;&nbsp; b) 'in' keyword <br>\n",
    " &nbsp;&nbsp;&nbsp;&nbsp; c) 'not in' keyword <br>\n",
    "5) <b>In-Class Exercise #2</b> <br>\n",
    "6) Elif Statements <br>\n",
    "7) Else Statements <br>\n",
    "8) <b>In-Class Exercise #3</b> <br>\n",
    "9) For Loops <br>\n",
    " &nbsp;&nbsp;&nbsp;&nbsp; a) Using 'in' keyword <br>\n",
    " &nbsp;&nbsp;&nbsp;&nbsp; b) Continue Statement <br>\n",
    " &nbsp;&nbsp;&nbsp;&nbsp; c) Break Statement <br>\n",
    " &nbsp;&nbsp;&nbsp;&nbsp; d) Pass Statement <br>\n",
    " &nbsp;&nbsp;&nbsp;&nbsp; e) Double For Loops <br>\n",
    "10) While Loops <br>\n",
    " &nbsp;&nbsp;&nbsp;&nbsp; a) Looping 'While True' <br>\n",
    " &nbsp;&nbsp;&nbsp;&nbsp; b) While and For Loops Used Together <br>\n",
    "11) Built-In Functions <br>\n",
    " &nbsp;&nbsp;&nbsp;&nbsp; a) range() <br>\n",
    " &nbsp;&nbsp;&nbsp;&nbsp; b) len() <br>\n",
    " &nbsp;&nbsp;&nbsp;&nbsp; c) help() <br>\n",
    " &nbsp;&nbsp;&nbsp;&nbsp; d) isinstance() <br>\n",
    " &nbsp;&nbsp;&nbsp;&nbsp; e) abs() <br>\n",
    "12) Try and Except <br>\n",
    "13) Lists <br>\n",
    " &nbsp;&nbsp;&nbsp;&nbsp; a) Declaring Lists <br>\n",
    " &nbsp;&nbsp;&nbsp;&nbsp; b) Indexing a List <br>\n",
    " &nbsp;&nbsp;&nbsp;&nbsp; c) .append() <br>\n",
    " &nbsp;&nbsp;&nbsp;&nbsp; d) .insert() <br>\n",
    " &nbsp;&nbsp;&nbsp;&nbsp; e) .pop() <br>\n",
    " &nbsp;&nbsp;&nbsp;&nbsp; f) .remove() <br>\n",
    " &nbsp;&nbsp;&nbsp;&nbsp; g) del() <br>\n",
    " &nbsp;&nbsp;&nbsp;&nbsp; h) Concatenating Two Lists <br>\n",
    " &nbsp;&nbsp;&nbsp;&nbsp; i) Lists Within Lists <br>\n",
    " &nbsp;&nbsp;&nbsp;&nbsp; j) Looping Through Lists <br>"
   ]
  },
  {
   "cell_type": "markdown",
   "metadata": {},
   "source": [
    "### Int & Float Assignments"
   ]
  },
  {
   "cell_type": "markdown",
   "metadata": {},
   "source": [
    "##### Assigning int"
   ]
  },
  {
   "cell_type": "code",
   "execution_count": 1,
   "metadata": {},
   "outputs": [
    {
     "name": "stdout",
     "output_type": "stream",
     "text": [
      "96\n"
     ]
    }
   ],
   "source": [
    "number = 96\n",
    "print(number)"
   ]
  },
  {
   "cell_type": "markdown",
   "metadata": {},
   "source": [
    "##### Assinging float"
   ]
  },
  {
   "cell_type": "code",
   "execution_count": 2,
   "metadata": {},
   "outputs": [
    {
     "name": "stdout",
     "output_type": "stream",
     "text": [
      "2.3\n",
      "9.6\n"
     ]
    }
   ],
   "source": [
    "numberFloat = 2.3\n",
    "print(numberFloat)\n",
    "numberFloat = 9.6\n",
    "print(numberFloat)"
   ]
  },
  {
   "cell_type": "markdown",
   "metadata": {},
   "source": [
    "#### Performing Calculations on ints and floats"
   ]
  },
  {
   "cell_type": "markdown",
   "metadata": {},
   "source": [
    "##### Addition"
   ]
  },
  {
   "cell_type": "code",
   "execution_count": 4,
   "metadata": {},
   "outputs": [
    {
     "name": "stdout",
     "output_type": "stream",
     "text": [
      "119\n",
      "119\n",
      "123\n"
     ]
    }
   ],
   "source": [
    "num1 = 23\n",
    "num2 = 96\n",
    "print(num1 + num2)\n",
    "#OR\n",
    "ans = num1 + num2\n",
    "print(ans)\n",
    "ans += 4\n",
    "print(ans)"
   ]
  },
  {
   "cell_type": "markdown",
   "metadata": {},
   "source": [
    "##### Subtraction"
   ]
  },
  {
   "cell_type": "code",
   "execution_count": 5,
   "metadata": {},
   "outputs": [
    {
     "name": "stdout",
     "output_type": "stream",
     "text": [
      "73\n",
      "70\n"
     ]
    }
   ],
   "source": [
    "result = num2 - num1\n",
    "print(result)\n",
    "result -= 3\n",
    "print(result)"
   ]
  },
  {
   "cell_type": "markdown",
   "metadata": {},
   "source": [
    "##### Multiplication"
   ]
  },
  {
   "cell_type": "code",
   "execution_count": 6,
   "metadata": {},
   "outputs": [
    {
     "name": "stdout",
     "output_type": "stream",
     "text": [
      "2208\n",
      "4416\n"
     ]
    }
   ],
   "source": [
    "multi = num1 * num2\n",
    "print(multi)\n",
    "multi *= 2\n",
    "print(multi)"
   ]
  },
  {
   "cell_type": "markdown",
   "metadata": {},
   "source": [
    "##### Division"
   ]
  },
  {
   "cell_type": "code",
   "execution_count": 7,
   "metadata": {},
   "outputs": [
    {
     "name": "stdout",
     "output_type": "stream",
     "text": [
      "4.173913043478261\n",
      "2.0869565217391304\n"
     ]
    }
   ],
   "source": [
    "div = num2 / num1\n",
    "print(div)\n",
    "div /= 2\n",
    "print(div)"
   ]
  },
  {
   "cell_type": "markdown",
   "metadata": {},
   "source": [
    "##### Floor Division"
   ]
  },
  {
   "cell_type": "code",
   "execution_count": 8,
   "metadata": {},
   "outputs": [
    {
     "name": "stdout",
     "output_type": "stream",
     "text": [
      "4\n",
      "2\n"
     ]
    }
   ],
   "source": [
    "divFloor = num2 // num1\n",
    "print(divFloor)\n",
    "divFloor //= 2\n",
    "print(divFloor)"
   ]
  },
  {
   "cell_type": "markdown",
   "metadata": {},
   "source": [
    "##### Modulo"
   ]
  },
  {
   "cell_type": "code",
   "execution_count": 9,
   "metadata": {},
   "outputs": [
    {
     "name": "stdout",
     "output_type": "stream",
     "text": [
      "1\n",
      "0\n"
     ]
    }
   ],
   "source": [
    "mod = 10 % 3\n",
    "print(mod)\n",
    "mod %= 1\n",
    "print(mod)"
   ]
  },
  {
   "cell_type": "markdown",
   "metadata": {},
   "source": [
    "##### Exponential"
   ]
  },
  {
   "cell_type": "code",
   "execution_count": 10,
   "metadata": {},
   "outputs": [
    {
     "name": "stdout",
     "output_type": "stream",
     "text": [
      "25\n",
      "625\n"
     ]
    }
   ],
   "source": [
    "square  = 5 ** 2\n",
    "print(square)\n",
    "square **= 2\n",
    "print(square)"
   ]
  },
  {
   "cell_type": "markdown",
   "metadata": {},
   "source": [
    "### String Input-Output"
   ]
  },
  {
   "cell_type": "markdown",
   "metadata": {},
   "source": [
    "##### String Assignment"
   ]
  },
  {
   "cell_type": "code",
   "execution_count": 11,
   "metadata": {},
   "outputs": [
    {
     "name": "stdout",
     "output_type": "stream",
     "text": [
      "Brandon\n"
     ]
    }
   ],
   "source": [
    "name = \"Brandon\"\n",
    "print(name)"
   ]
  },
  {
   "cell_type": "markdown",
   "metadata": {},
   "source": [
    "##### print() <br>\n",
    "<p>Don't forget about end=' '</p>"
   ]
  },
  {
   "cell_type": "code",
   "execution_count": 14,
   "metadata": {},
   "outputs": [
    {
     "name": "stdout",
     "output_type": "stream",
     "text": [
      "This is my first name: Brandon\n",
      "Full Name: Brandon Miller"
     ]
    }
   ],
   "source": [
    "print(\"This is my first name:\", name)\n",
    "print(\"Full Name:\", name, end=\" Miller\")"
   ]
  },
  {
   "cell_type": "markdown",
   "metadata": {},
   "source": [
    "##### String Concatenation"
   ]
  },
  {
   "cell_type": "code",
   "execution_count": 16,
   "metadata": {},
   "outputs": [
    {
     "name": "stdout",
     "output_type": "stream",
     "text": [
      "Brandon Miller\n",
      "Brandon Miller, Sr\n"
     ]
    }
   ],
   "source": [
    "first_name = \"Brandon\"\n",
    "last_name = \"Miller\"\n",
    "full_name = first_name + \" \" + last_name\n",
    "print(full_name)\n",
    "full_name += \", Sr\"\n",
    "print(full_name)"
   ]
  },
  {
   "cell_type": "markdown",
   "metadata": {},
   "source": [
    "##### Type Conversion"
   ]
  },
  {
   "cell_type": "code",
   "execution_count": 19,
   "metadata": {},
   "outputs": [
    {
     "name": "stdout",
     "output_type": "stream",
     "text": [
      "<class 'str'>\n",
      "<class 'int'>\n"
     ]
    }
   ],
   "source": [
    "number = \"32\"\n",
    "change_type_num = int(number)\n",
    "print(type(number))\n",
    "print(type(change_type_num))\n"
   ]
  },
  {
   "cell_type": "markdown",
   "metadata": {},
   "source": [
    "##### input()"
   ]
  },
  {
   "cell_type": "code",
   "execution_count": 30,
   "metadata": {},
   "outputs": [
    {
     "name": "stdout",
     "output_type": "stream",
     "text": [
      "What is your age? 26\n",
      "Cool! Fun fact: You'd be 1026 years old if you traveled 1000 years into the future.\n"
     ]
    }
   ],
   "source": [
    "# Input will ALWAYS return a string!\n",
    "\n",
    "# name = input(\"What is your name? \")\n",
    "# print(\"Hey \" + name + \", nice to meet you!\")\n",
    "\n",
    "age = int(input(\"What is your age? \"))\n",
    "add_age = age + 1000\n",
    "print(\"Cool! Fun fact: You'd be \" + str(add_age) + \" years old if you traveled 1000 years into the future.\")"
   ]
  },
  {
   "cell_type": "markdown",
   "metadata": {},
   "source": [
    "##### format()"
   ]
  },
  {
   "cell_type": "code",
   "execution_count": 45,
   "metadata": {},
   "outputs": [
    {
     "name": "stdout",
     "output_type": "stream",
     "text": [
      "What is your age? 26\n",
      "You are 26, Brandon, and you are getting wiser!\n",
      "26 is a great time in life!!!\n"
     ]
    }
   ],
   "source": [
    "age = input(\"What is your age? \")\n",
    "\n",
    "# result = \"You are {}, {}, and you are getting wiser!\".format(age, name)\n",
    "# print(result)\n",
    "\n",
    "result_two = f\"{age} is a great time in life!!!\"\n",
    "print(result_two)"
   ]
  },
  {
   "cell_type": "markdown",
   "metadata": {},
   "source": [
    "##### Old Way (python 2)"
   ]
  },
  {
   "cell_type": "code",
   "execution_count": 47,
   "metadata": {},
   "outputs": [
    {
     "name": "stdout",
     "output_type": "stream",
     "text": [
      "You are 26 and look great for your age!\n"
     ]
    }
   ],
   "source": [
    "result_three = \"You are %s and look great for your age!\" %age\n",
    "print(result_three)"
   ]
  },
  {
   "cell_type": "markdown",
   "metadata": {},
   "source": [
    "# In-Class Exercise 1 <br>\n",
    "<p>Create a format statement that asks for color, year, make, model and prints out the results</p>"
   ]
  },
  {
   "cell_type": "code",
   "execution_count": 49,
   "metadata": {},
   "outputs": [
    {
     "name": "stdout",
     "output_type": "stream",
     "text": [
      "What is your name? Brandon\n",
      "What is the color of your vehicle? Starlight Mica Blue\n",
      "What is the year of your vehicle? 1996\n",
      "What is the make of your vehicle? Mazda\n",
      "What is the model of your vehicle? Miata\n",
      "Brandon owns a 1996 Mazda Miata in the color Starlight Mica Blue.\n"
     ]
    }
   ],
   "source": [
    "name = input(\"What is your name? \")\n",
    "color = input(\"What is the color of your vehicle? \")\n",
    "year = input(\"What is the year of your vehicle? \")\n",
    "make = input(\"What is the make of your vehicle? \")\n",
    "model = input(\"What is the model of your vehicle? \")\n",
    "\n",
    "vehicle = f\"{name} owns a {year} {make} {model} in the color {color}.\"\n",
    "print(vehicle)"
   ]
  },
  {
   "cell_type": "markdown",
   "metadata": {},
   "source": [
    "### If Statements"
   ]
  },
  {
   "cell_type": "code",
   "execution_count": 67,
   "metadata": {},
   "outputs": [
    {
     "name": "stdout",
     "output_type": "stream",
     "text": [
      "True.\n"
     ]
    }
   ],
   "source": [
    "# Available operators: Greater(>), Less(<),Equal(==)\n",
    "# Greater or Equal(>=), Less or Equal (<=)\n",
    "\n",
    "# Truth Tree:\n",
    "# T && F = F\n",
    "# T && T = T\n",
    "# T || F = T\n",
    "# F || T = T\n",
    "# F || F = F\n",
    "\n",
    "num1 = 23\n",
    "num2 = 96\n",
    "num3 = 100\n",
    "\n",
    "# if num1 == 5:\n",
    "#     print(\"This is true!\")\n",
    "# else:\n",
    "#     print(\"This is false.\")\n",
    "\n",
    "\n",
    "# if num1 > num2:\n",
    "#     print(\"Num1 is greater than num2.\")\n",
    "# elif num2 > num1:\n",
    "#     print(\"Num2 is greater than num1.\")\n",
    "# else:\n",
    "#     print(\"Num1 and num2 are equal.\")\n",
    "\n",
    "\n",
    "if num1 > num2 or num2 < num3:\n",
    "    print(\"True.\")\n",
    "else: \n",
    "    print(\"False.\")\n"
   ]
  },
  {
   "cell_type": "markdown",
   "metadata": {},
   "source": [
    "##### 'is' keyword"
   ]
  },
  {
   "cell_type": "code",
   "execution_count": 69,
   "metadata": {
    "scrolled": true
   },
   "outputs": [
    {
     "name": "stdout",
     "output_type": "stream",
     "text": [
      "This is the exact number/object\n"
     ]
    }
   ],
   "source": [
    "# The \"is\" keyword is for checking for the same object, but not the same value\n",
    "\n",
    "num3 = 55\n",
    "\n",
    "if num3 == 55:\n",
    "    print(\"This is the exact number/object\")"
   ]
  },
  {
   "cell_type": "markdown",
   "metadata": {},
   "source": [
    "##### 'in' keyword"
   ]
  },
  {
   "cell_type": "code",
   "execution_count": 70,
   "metadata": {},
   "outputs": [
    {
     "name": "stdout",
     "output_type": "stream",
     "text": [
      "The ring bearer\n"
     ]
    }
   ],
   "source": [
    "# Check if character is in a string\n",
    "\n",
    "char_name = \"Frodo Baggins\"\n",
    "\n",
    "if \"Frodo\" in char_name:\n",
    "    print(\"The ring bearer\")"
   ]
  },
  {
   "cell_type": "markdown",
   "metadata": {},
   "source": [
    "##### 'not in' keyword'"
   ]
  },
  {
   "cell_type": "code",
   "execution_count": 71,
   "metadata": {},
   "outputs": [
    {
     "name": "stdout",
     "output_type": "stream",
     "text": [
      "a is NOT here...\n"
     ]
    }
   ],
   "source": [
    "sega_char = \"Sonic\"\n",
    "\n",
    "if 'a' not in sega_char:\n",
    "    print('a is NOT here...')"
   ]
  },
  {
   "cell_type": "markdown",
   "metadata": {},
   "source": [
    "# In-Class Exercise 2 <br>\n",
    "<p>Ask user for input, check to see if the letter 'p' is in the input</p>"
   ]
  },
  {
   "cell_type": "code",
   "execution_count": 76,
   "metadata": {},
   "outputs": [
    {
     "name": "stdout",
     "output_type": "stream",
     "text": [
      "Please give me some input: My name is Brandon.\n",
      "P is not found.\n"
     ]
    }
   ],
   "source": [
    "# OUTPUT: True -- if p is found\n",
    "# False -- if p is NOT found\n",
    "\n",
    "user_input = input(\"Please give me some input: \")\n",
    "\n",
    "if 'p' in user_input:\n",
    "    print(\"P is found.\")\n",
    "elif 'p' not in user_input:\n",
    "    print(\"P is not found.\")\n",
    "else:\n",
    "    print(\"Error.\")"
   ]
  },
  {
   "cell_type": "markdown",
   "metadata": {},
   "source": [
    "## Using 'and'/'or' with If Statements"
   ]
  },
  {
   "cell_type": "code",
   "execution_count": 79,
   "metadata": {},
   "outputs": [
    {
     "name": "stdout",
     "output_type": "stream",
     "text": [
      "These statements are all true!\n",
      "This is still true!\n"
     ]
    }
   ],
   "source": [
    "num1 = 12\n",
    "num2 = 7\n",
    "num3 = 45\n",
    "num4 = 2\n",
    "\n",
    "if num1 + num2 <= num3 / num4 and num2 > num4:\n",
    "    print(\"These statements are all true!\")\n",
    "else:\n",
    "    print(\"These are false.\")\n",
    "    \n",
    "if num1 == 12 or num3 == 56:\n",
    "    print(\"This is still true!\")\n",
    "else:\n",
    "    print(\"This is false again.\")"
   ]
  },
  {
   "cell_type": "markdown",
   "metadata": {},
   "source": [
    "### Elif Statements"
   ]
  },
  {
   "cell_type": "code",
   "execution_count": 82,
   "metadata": {},
   "outputs": [
    {
     "name": "stdout",
     "output_type": "stream",
     "text": [
      "What is your name? Gerald\n",
      "The name is NOT max\n"
     ]
    }
   ],
   "source": [
    "first_name = input(\"What is your name? \")\n",
    "\n",
    "if first_name == 'Smith':\n",
    "    print(\"The name is Smith.\")\n",
    "elif first_name == 'Brandon':\n",
    "    print(\"The name is Brandon.\")\n",
    "elif first_name != 'Max':\n",
    "    print(\"The name is NOT max\")\n",
    "else:\n",
    "    print(\"The name is Max\")"
   ]
  },
  {
   "cell_type": "markdown",
   "metadata": {},
   "source": [
    "### Else Statements"
   ]
  },
  {
   "cell_type": "code",
   "execution_count": null,
   "metadata": {},
   "outputs": [],
   "source": [
    "# see above"
   ]
  },
  {
   "cell_type": "markdown",
   "metadata": {},
   "source": [
    "### For Loops"
   ]
  },
  {
   "cell_type": "code",
   "execution_count": 5,
   "metadata": {},
   "outputs": [
    {
     "name": "stdout",
     "output_type": "stream",
     "text": [
      "2\n",
      "4\n",
      "6\n",
      "8\n"
     ]
    }
   ],
   "source": [
    "# Syntax:\n",
    "# for counter in condition\n",
    "\n",
    "name = \"Brandon Miller\"\n",
    "a_list = [1, 2, 3, 4]\n",
    "\n",
    "# for letter in name:\n",
    "#     print(letter)\n",
    "    \n",
    "for i in a_list:\n",
    "    print(i * 2)"
   ]
  },
  {
   "cell_type": "markdown",
   "metadata": {},
   "source": [
    "##### Using 'in' keyword"
   ]
  },
  {
   "cell_type": "code",
   "execution_count": null,
   "metadata": {},
   "outputs": [],
   "source": [
    "# see above"
   ]
  },
  {
   "cell_type": "markdown",
   "metadata": {},
   "source": [
    "##### Continue Statement"
   ]
  },
  {
   "cell_type": "code",
   "execution_count": null,
   "metadata": {},
   "outputs": [],
   "source": [
    "# will continue to next iteration"
   ]
  },
  {
   "cell_type": "code",
   "execution_count": 2,
   "metadata": {},
   "outputs": [
    {
     "name": "stdout",
     "output_type": "stream",
     "text": [
      "0\n",
      "1\n",
      "2\n",
      "3\n",
      "4\n",
      "6\n",
      "7\n",
      "8\n",
      "9\n",
      "10\n",
      "11\n",
      "12\n",
      "13\n",
      "14\n",
      "15\n",
      "16\n",
      "17\n",
      "18\n",
      "19\n"
     ]
    }
   ],
   "source": [
    "for i in range(20):\n",
    "    if i == 5:\n",
    "        continue\n",
    "    print(i)"
   ]
  },
  {
   "cell_type": "markdown",
   "metadata": {},
   "source": [
    "##### Break Statement"
   ]
  },
  {
   "cell_type": "code",
   "execution_count": null,
   "metadata": {},
   "outputs": [],
   "source": [
    "# will break out of current loop"
   ]
  },
  {
   "cell_type": "code",
   "execution_count": 3,
   "metadata": {},
   "outputs": [
    {
     "name": "stdout",
     "output_type": "stream",
     "text": [
      "0\n",
      "1\n",
      "2\n",
      "3\n",
      "4\n"
     ]
    }
   ],
   "source": [
    "for i in range(20):\n",
    "    if i == 5:\n",
    "        break\n",
    "    print(i)"
   ]
  },
  {
   "cell_type": "markdown",
   "metadata": {},
   "source": [
    "##### Pass Statement"
   ]
  },
  {
   "cell_type": "code",
   "execution_count": null,
   "metadata": {},
   "outputs": [],
   "source": [
    "# mostly used as a placeholder, and will continue on same iteration"
   ]
  },
  {
   "cell_type": "code",
   "execution_count": 8,
   "metadata": {},
   "outputs": [],
   "source": [
    "name = \"Brandon\"\n",
    "\n",
    "for i in name:\n",
    "    pass"
   ]
  },
  {
   "cell_type": "markdown",
   "metadata": {},
   "source": [
    "##### Double For Loops"
   ]
  },
  {
   "cell_type": "code",
   "execution_count": 9,
   "metadata": {},
   "outputs": [
    {
     "name": "stdout",
     "output_type": "stream",
     "text": [
      "i =  0 j =  0\n",
      "i =  0 j =  1\n",
      "i =  0 j =  2\n",
      "i =  0 j =  3\n",
      "i =  0 j =  4\n",
      "i =  1 j =  0\n",
      "i =  1 j =  1\n",
      "i =  1 j =  2\n",
      "i =  1 j =  3\n",
      "i =  1 j =  4\n",
      "i =  2 j =  0\n",
      "i =  2 j =  1\n",
      "i =  2 j =  2\n",
      "i =  2 j =  3\n",
      "i =  2 j =  4\n",
      "i =  3 j =  0\n",
      "i =  3 j =  1\n",
      "i =  3 j =  2\n",
      "i =  3 j =  3\n",
      "i =  3 j =  4\n",
      "i =  4 j =  0\n",
      "i =  4 j =  1\n",
      "i =  4 j =  2\n",
      "i =  4 j =  3\n",
      "i =  4 j =  4\n"
     ]
    }
   ],
   "source": [
    "for i in range(5):\n",
    "    for j in range(5):\n",
    "        print('i = ', i, 'j = ', j)"
   ]
  },
  {
   "cell_type": "markdown",
   "metadata": {},
   "source": [
    "### While Loops"
   ]
  },
  {
   "cell_type": "code",
   "execution_count": 10,
   "metadata": {},
   "outputs": [
    {
     "name": "stdout",
     "output_type": "stream",
     "text": [
      "0\n",
      "1\n",
      "2\n",
      "3\n",
      "4\n",
      "5\n",
      "6\n",
      "7\n",
      "8\n",
      "9\n"
     ]
    }
   ],
   "source": [
    "# Syntax:\n",
    "# while keyword, condition statement\n",
    "\n",
    "num = 0\n",
    "\n",
    "while num < 10:\n",
    "    print(num)\n",
    "    num += 1"
   ]
  },
  {
   "cell_type": "markdown",
   "metadata": {},
   "source": [
    "##### Looping 'While True'"
   ]
  },
  {
   "cell_type": "code",
   "execution_count": 14,
   "metadata": {},
   "outputs": [
    {
     "name": "stdout",
     "output_type": "stream",
     "text": [
      "Would you like to stop? Yes\n"
     ]
    }
   ],
   "source": [
    "game_over = True\n",
    "\n",
    "while game_over:\n",
    "    user_input = input(\"Would you like to stop? \")\n",
    "    if user_input == 'Yes':\n",
    "        game_over = False"
   ]
  },
  {
   "cell_type": "markdown",
   "metadata": {},
   "source": [
    "##### While & For Loops Used Together"
   ]
  },
  {
   "cell_type": "code",
   "execution_count": 16,
   "metadata": {},
   "outputs": [
    {
     "name": "stdout",
     "output_type": "stream",
     "text": [
      "\n",
      "While loop iteration: 0\n",
      "For loop iteration:  0\n",
      "For loop iteration:  1\n",
      "\n",
      "While loop iteration: 1\n",
      "For loop iteration:  0\n",
      "For loop iteration:  1\n",
      "\n",
      "While loop iteration: 2\n",
      "For loop iteration:  0\n",
      "For loop iteration:  1\n",
      "\n",
      "While loop iteration: 3\n",
      "For loop iteration:  0\n",
      "For loop iteration:  1\n",
      "\n",
      "While loop iteration: 4\n",
      "For loop iteration:  0\n",
      "For loop iteration:  1\n"
     ]
    }
   ],
   "source": [
    "num = 0\n",
    "while num < 5:\n",
    "    print(\"\\nWhile loop iteration: \" + str(num))\n",
    "    \n",
    "    for i in range(2):\n",
    "        print(\"For loop iteration: \", str(i))\n",
    "        \n",
    "    num += 1"
   ]
  },
  {
   "cell_type": "markdown",
   "metadata": {},
   "source": [
    "### Built-In Functions"
   ]
  },
  {
   "cell_type": "markdown",
   "metadata": {},
   "source": [
    "##### range()"
   ]
  },
  {
   "cell_type": "code",
   "execution_count": 18,
   "metadata": {},
   "outputs": [
    {
     "name": "stdout",
     "output_type": "stream",
     "text": [
      "2\n",
      "4\n",
      "6\n",
      "8\n",
      "10\n",
      "12\n",
      "14\n",
      "16\n",
      "18\n",
      "20\n"
     ]
    }
   ],
   "source": [
    "# range(start, stop, step)\n",
    "\n",
    "for i in range(2, 21, 2):\n",
    "    print(i)"
   ]
  },
  {
   "cell_type": "markdown",
   "metadata": {},
   "source": [
    "##### len()"
   ]
  },
  {
   "cell_type": "code",
   "execution_count": 21,
   "metadata": {},
   "outputs": [
    {
     "name": "stdout",
     "output_type": "stream",
     "text": [
      "Give me the name of your favorite book? Harry Potter\n",
      "12\n"
     ]
    }
   ],
   "source": [
    "# name = \"brandon\"\n",
    "# name_len = len(name)\n",
    "# print(name_len)\n",
    "\n",
    "name = input(\"Give me the name of your favorite book? \")\n",
    "\n",
    "length = len(name)\n",
    "print(length)\n"
   ]
  },
  {
   "cell_type": "markdown",
   "metadata": {},
   "source": [
    "##### help()"
   ]
  },
  {
   "cell_type": "code",
   "execution_count": 23,
   "metadata": {},
   "outputs": [
    {
     "name": "stdout",
     "output_type": "stream",
     "text": [
      "Help on built-in function len in module builtins:\n",
      "\n",
      "len(obj, /)\n",
      "    Return the number of items in a container.\n",
      "\n"
     ]
    }
   ],
   "source": [
    "# Use this function to view more info about a python function\n",
    "help(len)"
   ]
  },
  {
   "cell_type": "markdown",
   "metadata": {},
   "source": [
    "##### isinstance()"
   ]
  },
  {
   "cell_type": "code",
   "execution_count": 27,
   "metadata": {},
   "outputs": [
    {
     "name": "stdout",
     "output_type": "stream",
     "text": [
      "9.6 is a float\n"
     ]
    }
   ],
   "source": [
    "# Check a variable to find out what object family (or data type) it belongs to\n",
    "# isinstance(var, type)\n",
    "num = 9.6\n",
    "if isinstance(num, int):\n",
    "    print(f\"{num} is an int\")\n",
    "else:\n",
    "    print(f\"{num} is a float\")"
   ]
  },
  {
   "cell_type": "markdown",
   "metadata": {},
   "source": [
    "##### abs()"
   ]
  },
  {
   "cell_type": "code",
   "execution_count": 28,
   "metadata": {},
   "outputs": [
    {
     "name": "stdout",
     "output_type": "stream",
     "text": [
      "5\n"
     ]
    }
   ],
   "source": [
    "# |-5| = 5 ; Works just like absolute value in math\n",
    "\n",
    "print(abs(-5))"
   ]
  },
  {
   "cell_type": "markdown",
   "metadata": {},
   "source": [
    "### Try and Except"
   ]
  },
  {
   "cell_type": "code",
   "execution_count": 38,
   "metadata": {},
   "outputs": [
    {
     "name": "stdout",
     "output_type": "stream",
     "text": [
      "Guess a number: 96\n",
      "Your number is 96\n"
     ]
    }
   ],
   "source": [
    "# Use this to log out graceful and useful error messages\n",
    "# Does not stop the program, which is very neat!\n",
    "\n",
    "# input_num = int(input(\"Guess a number: \"))\n",
    "# print(\"Your number is \" + str(input_num))\n",
    "\n",
    "try:\n",
    "    input_num = int(input(\"Guess a number: \"))\n",
    "    print(\"Your number is \" + str(input_num))\n",
    "except:\n",
    "    print(\"That didn't work change your input to a number!\")"
   ]
  },
  {
   "cell_type": "markdown",
   "metadata": {},
   "source": [
    "### Lists"
   ]
  },
  {
   "cell_type": "markdown",
   "metadata": {},
   "source": [
    "##### Declaring Lists"
   ]
  },
  {
   "cell_type": "code",
   "execution_count": 58,
   "metadata": {},
   "outputs": [
    {
     "name": "stdout",
     "output_type": "stream",
     "text": [
      "['Max', 'Cindy', 'Kathy', 'bob', 'Nate']\n"
     ]
    }
   ],
   "source": [
    "a_list = []\n",
    "\n",
    "names = ['Max', 'Cindy', 'Kathy', 'bob', 'Nate']\n",
    "print(names)"
   ]
  },
  {
   "cell_type": "markdown",
   "metadata": {},
   "source": [
    "##### Indexing a List"
   ]
  },
  {
   "cell_type": "code",
   "execution_count": 59,
   "metadata": {},
   "outputs": [
    {
     "name": "stdout",
     "output_type": "stream",
     "text": [
      "Kathy\n",
      "['Cindy', 'Kathy', 'bob', 'Nate']\n",
      "['Max', 'Cindy']\n",
      "['Cindy', 'bob']\n",
      "['Nate', 'bob', 'Kathy', 'Cindy', 'Max']\n"
     ]
    }
   ],
   "source": [
    "# list_name[start: stop: step]\n",
    "\n",
    "# Single Index\n",
    "print(names[2])\n",
    "\n",
    "# Print starting at index 1 going to the end\n",
    "print(names[1:])\n",
    "\n",
    "# Print starting at the beginning of the list and up until a number\n",
    "print(names[:2])\n",
    "\n",
    "# Print starting at index 1 and going up by 2 in each iteration\n",
    "print(names[1::2])\n",
    "\n",
    "# Print starting at back and display in reverse order\n",
    "print(names[::-1])"
   ]
  },
  {
   "cell_type": "markdown",
   "metadata": {},
   "source": [
    "##### .append()"
   ]
  },
  {
   "cell_type": "code",
   "execution_count": 60,
   "metadata": {},
   "outputs": [
    {
     "name": "stdout",
     "output_type": "stream",
     "text": [
      "['Max', 'Cindy', 'Kathy', 'bob', 'Nate', 'Brandon']\n"
     ]
    }
   ],
   "source": [
    "names.append('Brandon')\n",
    "print(names)"
   ]
  },
  {
   "cell_type": "markdown",
   "metadata": {},
   "source": [
    "##### .insert()"
   ]
  },
  {
   "cell_type": "code",
   "execution_count": 61,
   "metadata": {},
   "outputs": [
    {
     "name": "stdout",
     "output_type": "stream",
     "text": [
      "['Max', 'Cindy', 'Kathy', 'Devon', 'bob', 'Nate', 'Brandon']\n"
     ]
    }
   ],
   "source": [
    "names.insert(3, 'Devon')\n",
    "print(names)"
   ]
  },
  {
   "cell_type": "markdown",
   "metadata": {},
   "source": [
    "##### .pop()"
   ]
  },
  {
   "cell_type": "code",
   "execution_count": 62,
   "metadata": {},
   "outputs": [
    {
     "name": "stdout",
     "output_type": "stream",
     "text": [
      "Kathy\n",
      "['Max', 'Cindy', 'Devon', 'bob', 'Nate', 'Brandon']\n"
     ]
    }
   ],
   "source": [
    "# Defaults to the last value if no value is given\n",
    "# Pop returns the element that was removed in cas you want to assign it to a variable\n",
    "\n",
    "my_name = names.pop(2)\n",
    "print(my_name)\n",
    "print(names)"
   ]
  },
  {
   "cell_type": "markdown",
   "metadata": {},
   "source": [
    "\n",
    "##### .remove()"
   ]
  },
  {
   "cell_type": "code",
   "execution_count": 64,
   "metadata": {},
   "outputs": [
    {
     "name": "stdout",
     "output_type": "stream",
     "text": [
      "['Max', 'Devon', 'Nate', 'Brandon']\n"
     ]
    }
   ],
   "source": [
    "# Value to be removed rather than index\n",
    "\n",
    "# names.remove('bob')\n",
    "# print(names)\n",
    "\n",
    "# Remove multiples from list\n",
    "while 'Cindy' in names:\n",
    "    names.remove('Cindy')\n",
    "print(names)"
   ]
  },
  {
   "cell_type": "markdown",
   "metadata": {},
   "source": [
    "##### del()"
   ]
  },
  {
   "cell_type": "code",
   "execution_count": 65,
   "metadata": {},
   "outputs": [
    {
     "name": "stdout",
     "output_type": "stream",
     "text": [
      "['Max', 'Nate', 'Brandon']\n"
     ]
    }
   ],
   "source": [
    "# Goes by index, rather than value\n",
    "# Be careful with del, it can cause indexing errors if not used carefully\n",
    "\n",
    "del(names[1])\n",
    "print(names)"
   ]
  },
  {
   "cell_type": "markdown",
   "metadata": {},
   "source": [
    "##### Concatenating Two Lists"
   ]
  },
  {
   "cell_type": "code",
   "execution_count": 70,
   "metadata": {},
   "outputs": [
    {
     "name": "stdout",
     "output_type": "stream",
     "text": [
      "[0, 1, 2, 3, 4, 5]\n"
     ]
    }
   ],
   "source": [
    "# Will append two lists together, will NOT add the values!\n",
    "\n",
    "list_2 = [0, 1, 2]\n",
    "list_3 = [3, 4, 5]\n",
    "\n",
    "large_list = list_2 + list_3\n",
    "print(large_list)"
   ]
  },
  {
   "cell_type": "markdown",
   "metadata": {},
   "source": [
    "##### Lists Within Lists"
   ]
  },
  {
   "cell_type": "code",
   "execution_count": 69,
   "metadata": {},
   "outputs": [
    {
     "name": "stdout",
     "output_type": "stream",
     "text": [
      "['Max', 'Sam', 'Josh', ['Sally', ['Sue', 'Jim'], 'Tameka']]\n",
      "Jim\n"
     ]
    }
   ],
   "source": [
    "# Lists can hold ANY type of other element! Including other lists!\n",
    "# They can go as deep as you want; this is called nested lists\n",
    "\n",
    "names = ['Max', 'Sam', 'Josh', ['Sally', ['Sue', 'Jim'], 'Tameka']]\n",
    "print(names)\n",
    "print(names[3][1][1])"
   ]
  },
  {
   "cell_type": "markdown",
   "metadata": {},
   "source": [
    "##### Looping Through Lists"
   ]
  },
  {
   "cell_type": "code",
   "execution_count": 73,
   "metadata": {},
   "outputs": [
    {
     "name": "stdout",
     "output_type": "stream",
     "text": [
      "Max\n",
      "Sam\n",
      "Josh\n",
      "['Sally', ['Sue', 'Jim'], 'Tameka']\n",
      "Max\n",
      "Sam\n",
      "Josh\n",
      "['Sally', ['Sue', 'Jim'], 'Tameka']\n"
     ]
    }
   ],
   "source": [
    "# Two ways to loop through a list! One is by index; the other is by using the 'in' keyword\n",
    "\n",
    "# By index\n",
    "for i in range(len(names)):\n",
    "    print(names[i])\n",
    "    \n",
    "# Loop with 'in'\n",
    "for name in names:\n",
    "    print(name)"
   ]
  },
  {
   "cell_type": "markdown",
   "metadata": {},
   "source": [
    "## Exercise #1 <br>\n",
    "<p>Cube Number Test... Print out all cubed numbers up to the total value 1000. Meaning that if the cubed number is over 1000 break the loop.</p>"
   ]
  },
  {
   "cell_type": "code",
   "execution_count": 85,
   "metadata": {},
   "outputs": [
    {
     "name": "stdout",
     "output_type": "stream",
     "text": [
      "0\n",
      "1\n",
      "8\n",
      "27\n",
      "64\n",
      "125\n",
      "216\n",
      "343\n",
      "512\n",
      "729\n",
      "1000\n"
     ]
    }
   ],
   "source": [
    "for num in range(100):\n",
    "    cubed = num ** 3\n",
    "    if cubed <= 1000:\n",
    "        print(cubed)\n",
    "    else: \n",
    "        break"
   ]
  },
  {
   "cell_type": "markdown",
   "metadata": {},
   "source": [
    "## Exercise #2 <br>\n",
    "<p>Get first prime numbers up to 100</p>"
   ]
  },
  {
   "cell_type": "code",
   "execution_count": 81,
   "metadata": {},
   "outputs": [
    {
     "name": "stdout",
     "output_type": "stream",
     "text": [
      "2\n",
      "3\n",
      "5\n",
      "7\n",
      "11\n",
      "13\n",
      "17\n",
      "19\n",
      "23\n",
      "29\n",
      "31\n",
      "37\n",
      "41\n",
      "43\n",
      "47\n",
      "53\n",
      "59\n",
      "61\n",
      "67\n",
      "71\n",
      "73\n",
      "79\n",
      "83\n",
      "89\n",
      "97\n"
     ]
    }
   ],
   "source": [
    "# HINT::\n",
    "# An else after an if runs if the if didn’t\n",
    "# An else after a for runs if the for didn’t break\n",
    "\n",
    "for num in range(1, 101):\n",
    "    if num > 1:\n",
    "        for i in range(2, num):\n",
    "            if num % i == 0:\n",
    "                break\n",
    "        else:\n",
    "            print(num)"
   ]
  },
  {
   "cell_type": "markdown",
   "metadata": {},
   "source": [
    "# Exercise 3 <br>\n",
    "<p>Take in a users input for their age, if they are younger than 18 print kids, if they're 18 to 65 print adults, else print seniors</p>"
   ]
  },
  {
   "cell_type": "code",
   "execution_count": 35,
   "metadata": {},
   "outputs": [
    {
     "name": "stdout",
     "output_type": "stream",
     "text": [
      "What is your age? 26\n",
      "Adults\n"
     ]
    }
   ],
   "source": [
    "age = int(input(\"What is your age? \"))\n",
    "if age < 18:\n",
    "    print(\"Kids\")\n",
    "elif age <= 65:\n",
    "    print(\"Adults\")\n",
    "else:\n",
    "    print(\"Seniors\")"
   ]
  }
 ],
 "metadata": {
  "kernelspec": {
   "display_name": "Python 3 (ipykernel)",
   "language": "python",
   "name": "python3"
  },
  "language_info": {
   "codemirror_mode": {
    "name": "ipython",
    "version": 3
   },
   "file_extension": ".py",
   "mimetype": "text/x-python",
   "name": "python",
   "nbconvert_exporter": "python",
   "pygments_lexer": "ipython3",
   "version": "3.11.4"
  }
 },
 "nbformat": 4,
 "nbformat_minor": 2
}
